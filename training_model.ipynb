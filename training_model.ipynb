{
 "cells": [
  {
   "cell_type": "markdown",
   "metadata": {},
   "source": [
    "## Preprocessing Data ##\n",
    "\n",
    "Managing data Source: https://www.kaggle.com/yuliagm/how-to-work-with-big-datasets-on-16g-ram-dask\n",
    "\n",
    "TIP 1 - Deleting unused variables and gc.collect()\n",
    "\n",
    "TIP 2 - Presetting the datatypes\n",
    "\n",
    "TIP 3 - Importing selected rows of the a file (including generating your own subsamples)\n",
    "\n",
    "TIP 5 - Importing just selected columns\n",
    "\n",
    "TIP 6 - Creative data processing"
   ]
  },
  {
   "cell_type": "code",
   "execution_count": 17,
   "metadata": {
    "collapsed": true
   },
   "outputs": [],
   "source": [
    "import gc\n",
    "import time\n",
    "import numpy as np\n",
    "import pandas as pd\n",
    "import xgboost as xgb\n",
    "from xgboost import plot_importance\n",
    "import matplotlib.pyplot as plt\n",
    "from sklearn import metrics"
   ]
  },
  {
   "cell_type": "markdown",
   "metadata": {},
   "source": [
    "** Load Data **\n",
    "\n",
    "Loading data from csv unfortunately due to memory issues I was not able to utilize all 184 million data"
   ]
  },
  {
   "cell_type": "code",
   "execution_count": 2,
   "metadata": {
    "collapsed": true
   },
   "outputs": [],
   "source": [
    "# Import only selected cols and presetting data types\n",
    "train_cols = [\n",
    "            'ip', \n",
    "            'app', \n",
    "            'device', \n",
    "            'os', \n",
    "            'channel', \n",
    "            'click_time', \n",
    "            'is_attributed'\n",
    "            ]\n",
    "\n",
    "test_cols  = [\n",
    "            'ip', \n",
    "            'app', \n",
    "            'device', \n",
    "            'os', \n",
    "            'channel', \n",
    "            'click_time', \n",
    "            'click_id'\n",
    "            ]\n",
    "\n",
    "dtypes = {\n",
    "        'ip'            : 'uint32',\n",
    "        'app'           : 'uint16',\n",
    "        'device'        : 'uint16',\n",
    "        'os'            : 'uint16',\n",
    "        'channel'       : 'uint16',\n",
    "        'is_attributed' : 'uint8',\n",
    "        'click_id'      : 'uint32'\n",
    "        }"
   ]
  },
  {
   "cell_type": "code",
   "execution_count": 3,
   "metadata": {},
   "outputs": [
    {
     "name": "stdout",
     "output_type": "stream",
     "text": [
      "Elapse Time: 134.34629154205322\n"
     ]
    }
   ],
   "source": [
    "start_time = time.time()\n",
    "\n",
    "train = pd.read_csv(\"data/train.csv\", skiprows=range(1,100000000), nrows=84903891, usecols=train_cols, dtype=dtypes)\n",
    "test = pd.read_csv(\"data/test_supplement.csv\", usecols=test_cols, dtype=dtypes)\n",
    "\n",
    "print('Elapse Time: {}'.format(time.time() - start_time))"
   ]
  },
  {
   "cell_type": "code",
   "execution_count": 4,
   "metadata": {},
   "outputs": [
    {
     "data": {
      "text/plain": [
       "(84903891, 7)"
      ]
     },
     "execution_count": 4,
     "metadata": {},
     "output_type": "execute_result"
    }
   ],
   "source": [
    "train.shape"
   ]
  },
  {
   "cell_type": "code",
   "execution_count": 5,
   "metadata": {
    "scrolled": true
   },
   "outputs": [
    {
     "data": {
      "text/html": [
       "<div>\n",
       "<style>\n",
       "    .dataframe thead tr:only-child th {\n",
       "        text-align: right;\n",
       "    }\n",
       "\n",
       "    .dataframe thead th {\n",
       "        text-align: left;\n",
       "    }\n",
       "\n",
       "    .dataframe tbody tr th {\n",
       "        vertical-align: top;\n",
       "    }\n",
       "</style>\n",
       "<table border=\"1\" class=\"dataframe\">\n",
       "  <thead>\n",
       "    <tr style=\"text-align: right;\">\n",
       "      <th></th>\n",
       "      <th>ip</th>\n",
       "      <th>app</th>\n",
       "      <th>device</th>\n",
       "      <th>os</th>\n",
       "      <th>channel</th>\n",
       "      <th>click_time</th>\n",
       "      <th>is_attributed</th>\n",
       "    </tr>\n",
       "  </thead>\n",
       "  <tbody>\n",
       "    <tr>\n",
       "      <th>0</th>\n",
       "      <td>38311</td>\n",
       "      <td>11</td>\n",
       "      <td>1</td>\n",
       "      <td>15</td>\n",
       "      <td>219</td>\n",
       "      <td>2017-11-08 09:38:15</td>\n",
       "      <td>0</td>\n",
       "    </tr>\n",
       "    <tr>\n",
       "      <th>1</th>\n",
       "      <td>42430</td>\n",
       "      <td>9</td>\n",
       "      <td>1</td>\n",
       "      <td>25</td>\n",
       "      <td>334</td>\n",
       "      <td>2017-11-08 09:38:15</td>\n",
       "      <td>0</td>\n",
       "    </tr>\n",
       "    <tr>\n",
       "      <th>2</th>\n",
       "      <td>268617</td>\n",
       "      <td>12</td>\n",
       "      <td>1</td>\n",
       "      <td>19</td>\n",
       "      <td>219</td>\n",
       "      <td>2017-11-08 09:38:15</td>\n",
       "      <td>0</td>\n",
       "    </tr>\n",
       "    <tr>\n",
       "      <th>3</th>\n",
       "      <td>120245</td>\n",
       "      <td>18</td>\n",
       "      <td>1</td>\n",
       "      <td>25</td>\n",
       "      <td>107</td>\n",
       "      <td>2017-11-08 09:38:15</td>\n",
       "      <td>0</td>\n",
       "    </tr>\n",
       "    <tr>\n",
       "      <th>4</th>\n",
       "      <td>118252</td>\n",
       "      <td>3</td>\n",
       "      <td>1</td>\n",
       "      <td>9</td>\n",
       "      <td>280</td>\n",
       "      <td>2017-11-08 09:38:15</td>\n",
       "      <td>0</td>\n",
       "    </tr>\n",
       "  </tbody>\n",
       "</table>\n",
       "</div>"
      ],
      "text/plain": [
       "       ip  app  device  os  channel           click_time  is_attributed\n",
       "0   38311   11       1  15      219  2017-11-08 09:38:15              0\n",
       "1   42430    9       1  25      334  2017-11-08 09:38:15              0\n",
       "2  268617   12       1  19      219  2017-11-08 09:38:15              0\n",
       "3  120245   18       1  25      107  2017-11-08 09:38:15              0\n",
       "4  118252    3       1   9      280  2017-11-08 09:38:15              0"
      ]
     },
     "execution_count": 5,
     "metadata": {},
     "output_type": "execute_result"
    }
   ],
   "source": [
    "train.head()"
   ]
  },
  {
   "cell_type": "markdown",
   "metadata": {},
   "source": [
    "** Create new features **"
   ]
  },
  {
   "cell_type": "code",
   "execution_count": 6,
   "metadata": {
    "collapsed": true
   },
   "outputs": [],
   "source": [
    "# Method to create new features as well as drop columns that will no longer be use\n",
    "def new_features(df):\n",
    "    df['datetime'] = pd.to_datetime(df['click_time'])\n",
    "    df['click_day'] = df['datetime'].dt.day\n",
    "    df[\"click_hour\"] = df[\"datetime\"].dt.hour\n",
    "    df['day_of_week'] = df['datetime'].dt.dayofweek\n",
    "    \n",
    "    # Drop columns no longer needed to manage data\n",
    "    df.drop(['click_time', 'datetime'], axis=1, inplace=True)\n",
    "    return df"
   ]
  },
  {
   "cell_type": "code",
   "execution_count": 7,
   "metadata": {},
   "outputs": [
    {
     "name": "stdout",
     "output_type": "stream",
     "text": [
      "Elapse Time: 6.537474155426025\n"
     ]
    }
   ],
   "source": [
    "start_time = time.time()\n",
    "\n",
    "# labels\n",
    "y = train['is_attributed']\n",
    "\n",
    "train.drop(['is_attributed'], axis=1, inplace=True)\n",
    "test.drop(['click_id'], axis=1, inplace=True)\n",
    "gc.collect()\n",
    "\n",
    "nrow_train = train.shape[0]\n",
    "merge = pd.concat([train, test])\n",
    "\n",
    "del train, test\n",
    "gc.collect()\n",
    "print('Elapse Time: {}'.format(time.time() - start_time))"
   ]
  },
  {
   "cell_type": "code",
   "execution_count": 8,
   "metadata": {},
   "outputs": [
    {
     "name": "stdout",
     "output_type": "stream",
     "text": [
      "Elapse Time: 56.41985487937927\n"
     ]
    }
   ],
   "source": [
    "start_time = time.time()\n",
    "# Count the number of clicks by ip\n",
    "ip_count = merge.groupby(['ip'])['channel'].count().reset_index()\n",
    "ip_count.columns = ['ip', 'clicks_by_ip']\n",
    "\n",
    "merge = pd.merge(merge, ip_count, on='ip', how='left', sort=False)\n",
    "merge['clicks_by_ip'] = merge['clicks_by_ip'].astype('uint16')\n",
    "merge.drop('ip', axis=1, inplace=True)\n",
    "\n",
    "train = merge[:nrow_train]\n",
    "test = merge[nrow_train:]\n",
    "\n",
    "del test, merge\n",
    "gc.collect()\n",
    "\n",
    "print('Elapse Time: {}'.format(time.time() - start_time))"
   ]
  },
  {
   "cell_type": "code",
   "execution_count": 9,
   "metadata": {},
   "outputs": [
    {
     "name": "stdout",
     "output_type": "stream",
     "text": [
      "Elapse Time: 40.27451252937317\n"
     ]
    }
   ],
   "source": [
    "start_time = time.time()\n",
    "\n",
    "train = new_features(train)\n",
    "gc.collect()\n",
    "\n",
    "print('Elapse Time: {}'.format(time.time() - start_time))"
   ]
  },
  {
   "cell_type": "code",
   "execution_count": 10,
   "metadata": {},
   "outputs": [
    {
     "data": {
      "text/html": [
       "<div>\n",
       "<style>\n",
       "    .dataframe thead tr:only-child th {\n",
       "        text-align: right;\n",
       "    }\n",
       "\n",
       "    .dataframe thead th {\n",
       "        text-align: left;\n",
       "    }\n",
       "\n",
       "    .dataframe tbody tr th {\n",
       "        vertical-align: top;\n",
       "    }\n",
       "</style>\n",
       "<table border=\"1\" class=\"dataframe\">\n",
       "  <thead>\n",
       "    <tr style=\"text-align: right;\">\n",
       "      <th></th>\n",
       "      <th>app</th>\n",
       "      <th>device</th>\n",
       "      <th>os</th>\n",
       "      <th>channel</th>\n",
       "      <th>clicks_by_ip</th>\n",
       "      <th>click_day</th>\n",
       "      <th>click_hour</th>\n",
       "      <th>day_of_week</th>\n",
       "    </tr>\n",
       "  </thead>\n",
       "  <tbody>\n",
       "    <tr>\n",
       "      <th>0</th>\n",
       "      <td>11</td>\n",
       "      <td>1</td>\n",
       "      <td>15</td>\n",
       "      <td>219</td>\n",
       "      <td>3618</td>\n",
       "      <td>8</td>\n",
       "      <td>9</td>\n",
       "      <td>2</td>\n",
       "    </tr>\n",
       "    <tr>\n",
       "      <th>1</th>\n",
       "      <td>9</td>\n",
       "      <td>1</td>\n",
       "      <td>25</td>\n",
       "      <td>334</td>\n",
       "      <td>7284</td>\n",
       "      <td>8</td>\n",
       "      <td>9</td>\n",
       "      <td>2</td>\n",
       "    </tr>\n",
       "    <tr>\n",
       "      <th>2</th>\n",
       "      <td>12</td>\n",
       "      <td>1</td>\n",
       "      <td>19</td>\n",
       "      <td>219</td>\n",
       "      <td>39</td>\n",
       "      <td>8</td>\n",
       "      <td>9</td>\n",
       "      <td>2</td>\n",
       "    </tr>\n",
       "    <tr>\n",
       "      <th>3</th>\n",
       "      <td>18</td>\n",
       "      <td>1</td>\n",
       "      <td>25</td>\n",
       "      <td>107</td>\n",
       "      <td>1689</td>\n",
       "      <td>8</td>\n",
       "      <td>9</td>\n",
       "      <td>2</td>\n",
       "    </tr>\n",
       "    <tr>\n",
       "      <th>4</th>\n",
       "      <td>3</td>\n",
       "      <td>1</td>\n",
       "      <td>9</td>\n",
       "      <td>280</td>\n",
       "      <td>730</td>\n",
       "      <td>8</td>\n",
       "      <td>9</td>\n",
       "      <td>2</td>\n",
       "    </tr>\n",
       "  </tbody>\n",
       "</table>\n",
       "</div>"
      ],
      "text/plain": [
       "   app  device  os  channel  clicks_by_ip  click_day  click_hour  day_of_week\n",
       "0   11       1  15      219          3618          8           9            2\n",
       "1    9       1  25      334          7284          8           9            2\n",
       "2   12       1  19      219            39          8           9            2\n",
       "3   18       1  25      107          1689          8           9            2\n",
       "4    3       1   9      280           730          8           9            2"
      ]
     },
     "execution_count": 10,
     "metadata": {},
     "output_type": "execute_result"
    }
   ],
   "source": [
    "train.head()"
   ]
  },
  {
   "cell_type": "markdown",
   "metadata": {},
   "source": [
    "## Train Model ##\n",
    "\n",
    "Source: \n",
    "\n",
    "https://www.datacamp.com/community/tutorials/xgboost-in-python\n",
    "\n",
    "https://xgboost.readthedocs.io/en/latest/parameter.html\n",
    "\n",
    "https://xgboost.readthedocs.io/en/latest/python/python_api.html\n",
    "\n",
    "Parameters obtain from using GridSearchCV. Can be found in optimized_parameters.ipybn\n",
    "\n",
    "xgb.train() was used for incremental training instead of xgb.XGBClassifier()"
   ]
  },
  {
   "cell_type": "markdown",
   "metadata": {},
   "source": [
    "Best estimator:\n",
    "\n",
    "XGBClassifier(base_score=0.5, booster='gbtree', colsample_bylevel=1,\n",
    "\n",
    "       colsample_bytree=0.59999999999999998, gamma=0.01,\n",
    "       \n",
    "       learning_rate=0.20000000000000001, max_delta_step=15, max_depth=5,\n",
    "       \n",
    "       min_child_weight=5, missing=None, n_estimators=100, n_jobs=4,\n",
    "       \n",
    "       nthread=None, objective='gpu:binary:logistic', random_state=45,\n",
    "       \n",
    "       reg_alpha=0, reg_lambda=1000, scale_pos_weight=99, seed=None,\n",
    "       \n",
    "       silent=True, subsample=1, tree_method='gpu_hist')\n",
    "       \n",
    "********************************************************************\n",
    "Best ROC-AUC Score:\n",
    "\n",
    "0.993763375903"
   ]
  },
  {
   "cell_type": "code",
   "execution_count": 11,
   "metadata": {
    "collapsed": true
   },
   "outputs": [],
   "source": [
    "# Parameters used for XGBoost\n",
    "params = {\n",
    "        'tree_method': 'gpu_hist', # Equivalent to the XGBoost fast histogram algorithm. Much faster and uses considerably less memory. NOTE: Will run very slowly on GPUs older than Pascal architecture.\n",
    "        'colsample_bytree': 0.6, #  Subsample ratio of columns when constructing each tree\n",
    "        'gamma': 0.01, # Minimum loss reduction required to make a further partition on a leaf node of the tree.\n",
    "        'learning_rate': .2, # Boosting learning rate\n",
    "        'max_delta_step': 15, # Maximum delta step we allow each tree’s weight estimation to be.\n",
    "        'max_depth': 5, # Maximum depth of a tree.\n",
    "        'min_child_weight': 5, # Minimum sum of instance weight(hessian) needed in a child.\n",
    "        'n_jobs': 4, #  Number of parallel threads used to run xgboost. (replaces nthread)\n",
    "        'objective': 'gpu:binary:logistic', # logistic regression for binary classification, output probability base on gpu\n",
    "        'reg_lambda': 1000, # L2 regularization term on weights\n",
    "        'scale_pos_weight': 99, # Balancing of positive and negative weights. Since we have imbalance ratio of 99:1\n",
    "        'random_state': 45, # Random number seed\n",
    "        'eval_metric': 'auc', # Scoring Grade\n",
    "        'silent': True, # silent [default=0] 0 means printing running messages, 1 means silent mode\n",
    "        'predictor':'cpu_predictor' # The type of predictor algorithm to use. Provides the same results but allows the use of GPU or CPU.\n",
    "}"
   ]
  },
  {
   "cell_type": "code",
   "execution_count": 12,
   "metadata": {},
   "outputs": [
    {
     "name": "stdout",
     "output_type": "stream",
     "text": [
      "Start Training\n",
      "[0]\ttrain-auc:0.796605\n",
      "[1]\ttrain-auc:0.887569\n",
      "[2]\ttrain-auc:0.901487\n",
      "[3]\ttrain-auc:0.902239\n",
      "[4]\ttrain-auc:0.947516\n",
      "[5]\ttrain-auc:0.94708\n",
      "[6]\ttrain-auc:0.954061\n",
      "[7]\ttrain-auc:0.953862\n",
      "[8]\ttrain-auc:0.953397\n",
      "[9]\ttrain-auc:0.951634\n",
      "[10]\ttrain-auc:0.953063\n",
      "[11]\ttrain-auc:0.957231\n",
      "[12]\ttrain-auc:0.957144\n",
      "[13]\ttrain-auc:0.959111\n",
      "[14]\ttrain-auc:0.960128\n",
      "[15]\ttrain-auc:0.95992\n",
      "[16]\ttrain-auc:0.960857\n",
      "[17]\ttrain-auc:0.962037\n",
      "[18]\ttrain-auc:0.962691\n",
      "[19]\ttrain-auc:0.963692\n",
      "[20]\ttrain-auc:0.964633\n",
      "[21]\ttrain-auc:0.964978\n",
      "[22]\ttrain-auc:0.965359\n",
      "[23]\ttrain-auc:0.965551\n",
      "[24]\ttrain-auc:0.965818\n",
      "[25]\ttrain-auc:0.966156\n",
      "[26]\ttrain-auc:0.966393\n",
      "[27]\ttrain-auc:0.96659\n",
      "[28]\ttrain-auc:0.967104\n",
      "[29]\ttrain-auc:0.967497\n",
      "[30]\ttrain-auc:0.967697\n",
      "[31]\ttrain-auc:0.967943\n",
      "[32]\ttrain-auc:0.968049\n",
      "[33]\ttrain-auc:0.968156\n",
      "[34]\ttrain-auc:0.968307\n",
      "[35]\ttrain-auc:0.968469\n",
      "[36]\ttrain-auc:0.96865\n",
      "[37]\ttrain-auc:0.968768\n",
      "[38]\ttrain-auc:0.968907\n",
      "[39]\ttrain-auc:0.96898\n",
      "[40]\ttrain-auc:0.96915\n",
      "[41]\ttrain-auc:0.969322\n",
      "[42]\ttrain-auc:0.96941\n",
      "[43]\ttrain-auc:0.969529\n",
      "[44]\ttrain-auc:0.969573\n",
      "[45]\ttrain-auc:0.969669\n",
      "[46]\ttrain-auc:0.969734\n",
      "[47]\ttrain-auc:0.969927\n",
      "[48]\ttrain-auc:0.969992\n",
      "[49]\ttrain-auc:0.970142\n",
      "[50]\ttrain-auc:0.970181\n",
      "[51]\ttrain-auc:0.97022\n",
      "[52]\ttrain-auc:0.970314\n",
      "[53]\ttrain-auc:0.970368\n",
      "[54]\ttrain-auc:0.970433\n",
      "[55]\ttrain-auc:0.970542\n",
      "[56]\ttrain-auc:0.97061\n",
      "[57]\ttrain-auc:0.970678\n",
      "[58]\ttrain-auc:0.970726\n",
      "[59]\ttrain-auc:0.970772\n",
      "[60]\ttrain-auc:0.970829\n",
      "[61]\ttrain-auc:0.970916\n",
      "[62]\ttrain-auc:0.970961\n",
      "[63]\ttrain-auc:0.971025\n",
      "[64]\ttrain-auc:0.971057\n",
      "[65]\ttrain-auc:0.971076\n",
      "[66]\ttrain-auc:0.971088\n",
      "[67]\ttrain-auc:0.971147\n",
      "[68]\ttrain-auc:0.971179\n",
      "[69]\ttrain-auc:0.971199\n",
      "[70]\ttrain-auc:0.971254\n",
      "[71]\ttrain-auc:0.971288\n",
      "[72]\ttrain-auc:0.971319\n",
      "[73]\ttrain-auc:0.971328\n",
      "[74]\ttrain-auc:0.971378\n",
      "[75]\ttrain-auc:0.971438\n",
      "[76]\ttrain-auc:0.971493\n",
      "[77]\ttrain-auc:0.971522\n",
      "[78]\ttrain-auc:0.971543\n",
      "[79]\ttrain-auc:0.971561\n",
      "[80]\ttrain-auc:0.971572\n",
      "[81]\ttrain-auc:0.971586\n",
      "[82]\ttrain-auc:0.971628\n",
      "[83]\ttrain-auc:0.971682\n",
      "[84]\ttrain-auc:0.971699\n",
      "[85]\ttrain-auc:0.971733\n",
      "[86]\ttrain-auc:0.971766\n",
      "[87]\ttrain-auc:0.971864\n",
      "[88]\ttrain-auc:0.971887\n",
      "[89]\ttrain-auc:0.971916\n",
      "[90]\ttrain-auc:0.971936\n",
      "[91]\ttrain-auc:0.971982\n",
      "[92]\ttrain-auc:0.972003\n",
      "[93]\ttrain-auc:0.972015\n",
      "[94]\ttrain-auc:0.972042\n",
      "[95]\ttrain-auc:0.97207\n",
      "[96]\ttrain-auc:0.972132\n",
      "[97]\ttrain-auc:0.972151\n",
      "[98]\ttrain-auc:0.972175\n",
      "[99]\ttrain-auc:0.972186\n",
      "Finish Training: 613.890837430954\n"
     ]
    }
   ],
   "source": [
    "start_time = time.time()\n",
    "print('Start Training')\n",
    "  \n",
    "#data_dmatrix = xgb.DMatrix(data=X,label=y)\n",
    "dmatrixtrain = xgb.DMatrix(train, y)\n",
    "del train, y\n",
    "gc.collect()\n",
    "#evals: List of items to be evaluated during training, this allows user to watch performance on the validation set.\n",
    "evals = [(dmatrixtrain, 'train')]\n",
    "#xg_reg = xgb.train(params=params, dtrain=data_dmatrix, num_boost_round=10)\n",
    "model = xgb.train(params, dmatrixtrain, 100, evals, verbose_eval=1)\n",
    "\n",
    "del dmatrixtrain\n",
    "gc.collect()\n",
    "\n",
    "print('Finish Training: {}'.format(time.time() - start_time))"
   ]
  },
  {
   "cell_type": "markdown",
   "metadata": {},
   "source": [
    "## Feature Importance ##"
   ]
  },
  {
   "cell_type": "code",
   "execution_count": 13,
   "metadata": {},
   "outputs": [
    {
     "data": {
      "image/png": "[encoded data removed]",
      "text/plain": [
       "<matplotlib.figure.Figure at 0x22def758fd0>"
      ]
     },
     "metadata": {},
     "output_type": "display_data"
    }
   ],
   "source": [
    "# Plot the feature importance from xgboost\n",
    "plot_importance(model)\n",
    "plt.rcParams['figure.figsize'] = [15, 10]\n",
    "plt.show()"
   ]
  },
  {
   "cell_type": "markdown",
   "metadata": {},
   "source": [
    "## Test Prediction ##"
   ]
  },
  {
   "cell_type": "markdown",
   "metadata": {},
   "source": [
    "predict() will perform dropouts, i.e. only some of the trees will be evaluated. This will produce incorrect results if data is not the training data. To obtain correct results on test sets, set ntree_limit to a nonzero value, e.g."
   ]
  },
  {
   "cell_type": "code",
   "execution_count": 14,
   "metadata": {},
   "outputs": [
    {
     "name": "stdout",
     "output_type": "stream",
     "text": [
      "Elapse Time: 30.96998357772827\n"
     ]
    }
   ],
   "source": [
    "start_time = time.time()\n",
    "\n",
    "sub = pd.DataFrame()\n",
    "# Load the test for predict \n",
    "test = pd.read_csv(\"data/test.csv\", usecols=test_cols, dtype=dtypes)\n",
    "test = pd.merge(test, ip_count, on='ip', how='left', sort=False)\n",
    "del ip_count\n",
    "gc.collect()\n",
    "\n",
    "sub['click_id'] = test['click_id'].astype('int')\n",
    "\n",
    "test['clicks_by_ip'] = test['clicks_by_ip'].astype('uint16')\n",
    "test = new_features(test)\n",
    "test.drop(['click_id', 'ip'], axis=1, inplace=True)\n",
    "dmatrixtest = xgb.DMatrix(test)\n",
    "del test\n",
    "gc.collect()\n",
    "print('Elapse Time: {}'.format(time.time() - start_time))"
   ]
  },
  {
   "cell_type": "code",
   "execution_count": 15,
   "metadata": {},
   "outputs": [
    {
     "name": "stdout",
     "output_type": "stream",
     "text": [
      "Elapse Time: 67.61624574661255\n"
     ]
    }
   ],
   "source": [
    "start_time = time.time()\n",
    "# Save the predictions\n",
    "sub['is_attributed'] = model.predict(dmatrixtest)\n",
    "# Upload to Kaggle to get Score per submission\n",
    "sub.to_csv('data/xgb_submission.csv', index=False)\n",
    "print('Elapse Time: {}'.format(time.time() - start_time))"
   ]
  },
  {
   "cell_type": "markdown",
   "metadata": {},
   "source": [
    "## RESULT ROC_AUC SCORE ##\n",
    "\n",
    "Score was obtain from submitting xgb_submission.csv to kaggle per submission guidelines - https://www.kaggle.com/c/talkingdata-adtracking-fraud-detection\n",
    "\n",
    "<img src=\"results.png\">"
   ]
  },
  {
   "cell_type": "code",
   "execution_count": null,
   "metadata": {
    "collapsed": true
   },
   "outputs": [],
   "source": []
  }
 ],
 "metadata": {
  "kernelspec": {
   "display_name": "Python 3",
   "language": "python",
   "name": "python3"
  },
  "language_info": {
   "codemirror_mode": {
    "name": "ipython",
    "version": 3
   },
   "file_extension": ".py",
   "mimetype": "text/x-python",
   "name": "python",
   "nbconvert_exporter": "python",
   "pygments_lexer": "ipython3",
   "version": "3.6.3"
  }
 },
 "nbformat": 4,
 "nbformat_minor": 2
}
